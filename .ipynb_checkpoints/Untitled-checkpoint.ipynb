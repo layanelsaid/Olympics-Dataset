{
 "cells": [
  {
   "cell_type": "code",
   "execution_count": 3,
   "metadata": {},
   "outputs": [],
   "source": [
    "import numpy as np\n",
    "import pandas as pd\n",
    "import matplotlib.pyplot as plt\n",
    "import seaborn as sns\n",
    "%matplotlib inline"
   ]
  },
  {
   "cell_type": "code",
   "execution_count": 4,
   "metadata": {},
   "outputs": [],
   "source": [
    "athlete_events=pd.read_csv(\"athlete_events.csv\")\n",
    "noc_regions=pd.read_csv('noc_regions.csv')"
   ]
  },
  {
   "cell_type": "code",
   "execution_count": 3,
   "metadata": {},
   "outputs": [
    {
     "name": "stdout",
     "output_type": "stream",
     "text": [
      "<class 'pandas.core.frame.DataFrame'>\n",
      "RangeIndex: 271116 entries, 0 to 271115\n",
      "Data columns (total 15 columns):\n",
      " #   Column  Non-Null Count   Dtype  \n",
      "---  ------  --------------   -----  \n",
      " 0   ID      271116 non-null  int64  \n",
      " 1   Name    271116 non-null  object \n",
      " 2   Sex     271116 non-null  object \n",
      " 3   Age     261642 non-null  float64\n",
      " 4   Height  210945 non-null  float64\n",
      " 5   Weight  208241 non-null  float64\n",
      " 6   Team    271116 non-null  object \n",
      " 7   NOC     271116 non-null  object \n",
      " 8   Games   271116 non-null  object \n",
      " 9   Year    271116 non-null  int64  \n",
      " 10  Season  271116 non-null  object \n",
      " 11  City    271116 non-null  object \n",
      " 12  Sport   271116 non-null  object \n",
      " 13  Event   271116 non-null  object \n",
      " 14  Medal   39783 non-null   object \n",
      "dtypes: float64(3), int64(2), object(10)\n",
      "memory usage: 31.0+ MB\n"
     ]
    }
   ],
   "source": [
    "athlete_events.info()"
   ]
  },
  {
   "cell_type": "code",
   "execution_count": 4,
   "metadata": {},
   "outputs": [],
   "source": [
    "sex_avg = athlete_events.groupby('Sex').mean()['Age']"
   ]
  },
  {
   "cell_type": "code",
   "execution_count": 5,
   "metadata": {},
   "outputs": [],
   "source": [
    "def fillAge(age,sex):\n",
    "    if pd.isnull(age):\n",
    "        return sex_avg[sex]\n",
    "    else:\n",
    "        return age"
   ]
  },
  {
   "cell_type": "code",
   "execution_count": 6,
   "metadata": {},
   "outputs": [],
   "source": [
    "athlete_events['Age']=athlete_events.apply(lambda x: fillAge(x['Age'], x['Sex']),axis=1)"
   ]
  },
  {
   "cell_type": "code",
   "execution_count": null,
   "metadata": {},
   "outputs": [],
   "source": []
  },
  {
   "cell_type": "code",
   "execution_count": null,
   "metadata": {},
   "outputs": [],
   "source": []
  },
  {
   "cell_type": "code",
   "execution_count": 7,
   "metadata": {},
   "outputs": [],
   "source": [
    "athletes_above_18=athlete_events[athlete_events[\"Age\"]>=18]\n",
    "athletes_under_18=athlete_events[athlete_events[\"Age\"]<18]"
   ]
  },
  {
   "cell_type": "code",
   "execution_count": 8,
   "metadata": {},
   "outputs": [],
   "source": [
    "height_avg_above_18 = athletes_above_18.groupby(['Sport',\"Sex\"]).mean()['Height']\n",
    "height_avg_under_18 = athletes_under_18.groupby(['Sport',\"Sex\"]).mean()['Height']"
   ]
  },
  {
   "cell_type": "code",
   "execution_count": 9,
   "metadata": {},
   "outputs": [],
   "source": [
    "#If Height=Null when grouped by Sports and Sex\n",
    "def ageAbove18M():\n",
    "    return athletes_above_18[(athletes_above_18['Age']>=18) &(athletes_above_18['Sex']=='M')]['Height'].mean()\n",
    "def ageUnder18M():\n",
    "    return athletes_under_18[(athletes_under_18['Age']<18) &(athletes_under_18['Sex']=='M')]['Height'].mean()\n",
    "def ageAbove18F():\n",
    "    return athletes_above_18[(athletes_above_18['Age']>=18) &(athletes_above_18['Sex']=='F')]['Height'].mean()\n",
    "def ageUnder18F():\n",
    "    return athletes_under_18[(athletes_under_18['Age']<18) &(athletes_under_18['Sex']=='F')]['Height'].mean()"
   ]
  },
  {
   "cell_type": "code",
   "execution_count": 10,
   "metadata": {},
   "outputs": [],
   "source": [
    "def fillHeight(height,age,sport,sex):\n",
    "    if pd.isnull(height):\n",
    "        if((age>=18)&(sex=='M')):\n",
    "            if (pd.isnull(height_avg_above_18[sport,sex])):\n",
    "                return ageAbove18M()\n",
    "            else:\n",
    "                return height_avg_above_18[sport,sex]\n",
    "        elif((age>=18)&(sex=='F')):\n",
    "            if (pd.isnull(height_avg_above_18[sport,sex])):\n",
    "                return ageAbove18F()\n",
    "            else:\n",
    "                return height_avg_above_18[sport,sex]\n",
    "            \n",
    "        \n",
    "        \n",
    "        elif((age<18)&(sex=='M')):\n",
    "            if (pd.isnull(height_avg_under_18[sport,sex])):\n",
    "                return ageUnder18M()\n",
    "            else:\n",
    "                return height_avg_under_18[sport,sex]\n",
    "        else:\n",
    "               if (pd.isnull(height_avg_under_18[sport,sex])):\n",
    "                return ageUnder18F()\n",
    "               else:\n",
    "                return height_avg_under_18[sport,sex]\n",
    "    else:\n",
    "        return height"
   ]
  },
  {
   "cell_type": "code",
   "execution_count": 11,
   "metadata": {},
   "outputs": [],
   "source": [
    "athlete_events['Height']=athlete_events.apply(lambda x: fillHeight(x['Height'],x['Age'], x['Sport'],x['Sex']),axis=1)"
   ]
  },
  {
   "cell_type": "code",
   "execution_count": 12,
   "metadata": {},
   "outputs": [],
   "source": [
    "athlete_events=athlete_events.astype({'Height':int})"
   ]
  },
  {
   "cell_type": "code",
   "execution_count": null,
   "metadata": {},
   "outputs": [],
   "source": []
  },
  {
   "cell_type": "code",
   "execution_count": null,
   "metadata": {},
   "outputs": [],
   "source": []
  },
  {
   "cell_type": "code",
   "execution_count": 2,
   "metadata": {},
   "outputs": [],
   "source": [
    "#Getting Weight by sport,height,sex and age. THis is the one now working!"
   ]
  },
  {
   "cell_type": "code",
   "execution_count": 13,
   "metadata": {},
   "outputs": [],
   "source": [
    "weight_avg_above_18= athletes_above_18.groupby(['Sport','Height','Sex']).mean()['Weight']"
   ]
  },
  {
   "cell_type": "code",
   "execution_count": 14,
   "metadata": {},
   "outputs": [],
   "source": [
    "weight_avg_under_18= athletes_under_18.groupby(['Sport','Height','Sex']).mean()['Weight']"
   ]
  },
  {
   "cell_type": "code",
   "execution_count": 15,
   "metadata": {},
   "outputs": [],
   "source": [
    "#If Weight=Null when grouped by Sports and Sex and Height\n",
    "def ageHeightAbove18M(height):\n",
    "    return athletes_above_18[(athletes_above_18['Age']>=18) &(athletes_above_18['Sex']=='M')&(athletes_above_18['Height']==height)]['Weight'].mean()\n",
    "def ageHeightUnder18M(height):\n",
    "    return athletes_under_18[(athletes_under_18['Age']<18) &(athletes_under_18['Sex']=='M')&(athletes_under_18['Height']==height)]['Weight'].mean()\n",
    "def ageHeightAbove18F(height):\n",
    "    return athletes_above_18[(athletes_above_18['Age']>=18) &(athletes_above_18['Sex']=='F')&(athletes_above_18['Height']==height)]['Weight'].mean()\n",
    "def ageHeightUnder18F(height):\n",
    "    return athletes_under_18[(athletes_under_18['Age']<18) &(athletes_under_18['Sex']=='F')&(athletes_under_18['Height']==height)]['Weight'].mean()"
   ]
  },
  {
   "cell_type": "code",
   "execution_count": 16,
   "metadata": {},
   "outputs": [],
   "source": [
    "def fillWeight(weight,age,sport,height,sex):\n",
    "    if pd.isnull(weight):\n",
    "        if((age>=18)&(sex=='M')):\n",
    "            if (pd.isnull(weight_avg_above_18[sport,height,sex])):\n",
    "                return ageHeightAbove18M(height) \n",
    "            else:\n",
    "                return weight_avg_above_18[sport,height,sex]\n",
    "        elif((age>=18)&(sex=='F')):\n",
    "            if (pd.isnull(weight_avg_above_18[sport,height,sex])):\n",
    "                return ageHeightAbove18F(height) \n",
    "            else:\n",
    "                return weight_avg_above_18[sport,height,sex]\n",
    "           \n",
    "           \n",
    "        elif((age<18)&(sex=='M')):\n",
    "            if (pd.isnull(weight_avg_under_18[sport,height,sex])):\n",
    "                return ageHeightUnder18M(height)\n",
    "            else:\n",
    "                return weight_avg_under_18[sport,height,sex]\n",
    "        else:\n",
    "               if (pd.isnull(weight_avg_under_18[sport,height,sex])):\n",
    "                return ageHeightUnder18F(height)\n",
    "               else:\n",
    "                return weight_avg_under_18[sport,height,sex]\n",
    "    else:\n",
    "        return weight"
   ]
  },
  {
   "cell_type": "code",
   "execution_count": 17,
   "metadata": {},
   "outputs": [
    {
     "ename": "KeyError",
     "evalue": "('Rowing', 167, 'M')",
     "output_type": "error",
     "traceback": [
      "\u001b[1;31m---------------------------------------------------------------------------\u001b[0m",
      "\u001b[1;31mKeyError\u001b[0m                                  Traceback (most recent call last)",
      "\u001b[1;32m~\\anaconda3\\lib\\site-packages\\pandas\\core\\series.py\u001b[0m in \u001b[0;36m__getitem__\u001b[1;34m(self, key)\u001b[0m\n\u001b[0;32m    887\u001b[0m                 \u001b[1;31m# For labels that don't resolve as scalars like tuples and frozensets\u001b[0m\u001b[1;33m\u001b[0m\u001b[1;33m\u001b[0m\u001b[1;33m\u001b[0m\u001b[0m\n\u001b[1;32m--> 888\u001b[1;33m                 \u001b[0mresult\u001b[0m \u001b[1;33m=\u001b[0m \u001b[0mself\u001b[0m\u001b[1;33m.\u001b[0m\u001b[0m_get_value\u001b[0m\u001b[1;33m(\u001b[0m\u001b[0mkey\u001b[0m\u001b[1;33m)\u001b[0m\u001b[1;33m\u001b[0m\u001b[1;33m\u001b[0m\u001b[0m\n\u001b[0m\u001b[0;32m    889\u001b[0m \u001b[1;33m\u001b[0m\u001b[0m\n",
      "\u001b[1;32m~\\anaconda3\\lib\\site-packages\\pandas\\core\\series.py\u001b[0m in \u001b[0;36m_get_value\u001b[1;34m(self, label, takeable)\u001b[0m\n\u001b[0;32m    988\u001b[0m         \u001b[1;31m# Similar to Index.get_value, but we do not fall back to positional\u001b[0m\u001b[1;33m\u001b[0m\u001b[1;33m\u001b[0m\u001b[1;33m\u001b[0m\u001b[0m\n\u001b[1;32m--> 989\u001b[1;33m         \u001b[0mloc\u001b[0m \u001b[1;33m=\u001b[0m \u001b[0mself\u001b[0m\u001b[1;33m.\u001b[0m\u001b[0mindex\u001b[0m\u001b[1;33m.\u001b[0m\u001b[0mget_loc\u001b[0m\u001b[1;33m(\u001b[0m\u001b[0mlabel\u001b[0m\u001b[1;33m)\u001b[0m\u001b[1;33m\u001b[0m\u001b[1;33m\u001b[0m\u001b[0m\n\u001b[0m\u001b[0;32m    990\u001b[0m         \u001b[1;32mreturn\u001b[0m \u001b[0mself\u001b[0m\u001b[1;33m.\u001b[0m\u001b[0mindex\u001b[0m\u001b[1;33m.\u001b[0m\u001b[0m_get_values_for_loc\u001b[0m\u001b[1;33m(\u001b[0m\u001b[0mself\u001b[0m\u001b[1;33m,\u001b[0m \u001b[0mloc\u001b[0m\u001b[1;33m,\u001b[0m \u001b[0mlabel\u001b[0m\u001b[1;33m)\u001b[0m\u001b[1;33m\u001b[0m\u001b[1;33m\u001b[0m\u001b[0m\n",
      "\u001b[1;32m~\\anaconda3\\lib\\site-packages\\pandas\\core\\indexes\\multi.py\u001b[0m in \u001b[0;36mget_loc\u001b[1;34m(self, key, method)\u001b[0m\n\u001b[0;32m   2710\u001b[0m         \u001b[1;32mif\u001b[0m \u001b[0mkeylen\u001b[0m \u001b[1;33m==\u001b[0m \u001b[0mself\u001b[0m\u001b[1;33m.\u001b[0m\u001b[0mnlevels\u001b[0m \u001b[1;32mand\u001b[0m \u001b[0mself\u001b[0m\u001b[1;33m.\u001b[0m\u001b[0mis_unique\u001b[0m\u001b[1;33m:\u001b[0m\u001b[1;33m\u001b[0m\u001b[1;33m\u001b[0m\u001b[0m\n\u001b[1;32m-> 2711\u001b[1;33m             \u001b[1;32mreturn\u001b[0m \u001b[0mself\u001b[0m\u001b[1;33m.\u001b[0m\u001b[0m_engine\u001b[0m\u001b[1;33m.\u001b[0m\u001b[0mget_loc\u001b[0m\u001b[1;33m(\u001b[0m\u001b[0mkey\u001b[0m\u001b[1;33m)\u001b[0m\u001b[1;33m\u001b[0m\u001b[1;33m\u001b[0m\u001b[0m\n\u001b[0m\u001b[0;32m   2712\u001b[0m \u001b[1;33m\u001b[0m\u001b[0m\n",
      "\u001b[1;32mpandas\\_libs\\index.pyx\u001b[0m in \u001b[0;36mpandas._libs.index.BaseMultiIndexCodesEngine.get_loc\u001b[1;34m()\u001b[0m\n",
      "\u001b[1;32mpandas\\_libs\\index.pyx\u001b[0m in \u001b[0;36mpandas._libs.index.IndexEngine.get_loc\u001b[1;34m()\u001b[0m\n",
      "\u001b[1;32mpandas\\_libs\\index.pyx\u001b[0m in \u001b[0;36mpandas._libs.index.IndexEngine.get_loc\u001b[1;34m()\u001b[0m\n",
      "\u001b[1;32mpandas\\_libs\\hashtable_class_helper.pxi\u001b[0m in \u001b[0;36mpandas._libs.hashtable.UInt64HashTable.get_item\u001b[1;34m()\u001b[0m\n",
      "\u001b[1;32mpandas\\_libs\\hashtable_class_helper.pxi\u001b[0m in \u001b[0;36mpandas._libs.hashtable.UInt64HashTable.get_item\u001b[1;34m()\u001b[0m\n",
      "\u001b[1;31mKeyError\u001b[0m: 17038",
      "\nDuring handling of the above exception, another exception occurred:\n",
      "\u001b[1;31mKeyError\u001b[0m                                  Traceback (most recent call last)",
      "\u001b[1;32m~\\anaconda3\\lib\\site-packages\\pandas\\core\\indexes\\multi.py\u001b[0m in \u001b[0;36mget_loc_level\u001b[1;34m(self, key, level, drop_level)\u001b[0m\n\u001b[0;32m   2849\u001b[0m                     \u001b[1;32mtry\u001b[0m\u001b[1;33m:\u001b[0m\u001b[1;33m\u001b[0m\u001b[1;33m\u001b[0m\u001b[0m\n\u001b[1;32m-> 2850\u001b[1;33m                         \u001b[1;32mreturn\u001b[0m \u001b[1;33m(\u001b[0m\u001b[0mself\u001b[0m\u001b[1;33m.\u001b[0m\u001b[0m_engine\u001b[0m\u001b[1;33m.\u001b[0m\u001b[0mget_loc\u001b[0m\u001b[1;33m(\u001b[0m\u001b[0mkey\u001b[0m\u001b[1;33m)\u001b[0m\u001b[1;33m,\u001b[0m \u001b[1;32mNone\u001b[0m\u001b[1;33m)\u001b[0m\u001b[1;33m\u001b[0m\u001b[1;33m\u001b[0m\u001b[0m\n\u001b[0m\u001b[0;32m   2851\u001b[0m                     \u001b[1;32mexcept\u001b[0m \u001b[0mKeyError\u001b[0m \u001b[1;32mas\u001b[0m \u001b[0me\u001b[0m\u001b[1;33m:\u001b[0m\u001b[1;33m\u001b[0m\u001b[1;33m\u001b[0m\u001b[0m\n",
      "\u001b[1;32mpandas\\_libs\\index.pyx\u001b[0m in \u001b[0;36mpandas._libs.index.BaseMultiIndexCodesEngine.get_loc\u001b[1;34m()\u001b[0m\n",
      "\u001b[1;32mpandas\\_libs\\index.pyx\u001b[0m in \u001b[0;36mpandas._libs.index.IndexEngine.get_loc\u001b[1;34m()\u001b[0m\n",
      "\u001b[1;32mpandas\\_libs\\index.pyx\u001b[0m in \u001b[0;36mpandas._libs.index.IndexEngine.get_loc\u001b[1;34m()\u001b[0m\n",
      "\u001b[1;32mpandas\\_libs\\hashtable_class_helper.pxi\u001b[0m in \u001b[0;36mpandas._libs.hashtable.UInt64HashTable.get_item\u001b[1;34m()\u001b[0m\n",
      "\u001b[1;32mpandas\\_libs\\hashtable_class_helper.pxi\u001b[0m in \u001b[0;36mpandas._libs.hashtable.UInt64HashTable.get_item\u001b[1;34m()\u001b[0m\n",
      "\u001b[1;31mKeyError\u001b[0m: 17038",
      "\nThe above exception was the direct cause of the following exception:\n",
      "\u001b[1;31mKeyError\u001b[0m                                  Traceback (most recent call last)",
      "\u001b[1;32m<ipython-input-17-6a56a41e45db>\u001b[0m in \u001b[0;36m<module>\u001b[1;34m\u001b[0m\n\u001b[1;32m----> 1\u001b[1;33m \u001b[0mathlete_events\u001b[0m\u001b[1;33m[\u001b[0m\u001b[1;34m'Weight'\u001b[0m\u001b[1;33m]\u001b[0m\u001b[1;33m=\u001b[0m\u001b[0mathlete_events\u001b[0m\u001b[1;33m.\u001b[0m\u001b[0mapply\u001b[0m\u001b[1;33m(\u001b[0m\u001b[1;32mlambda\u001b[0m \u001b[0mx\u001b[0m\u001b[1;33m:\u001b[0m \u001b[0mfillWeight\u001b[0m\u001b[1;33m(\u001b[0m\u001b[0mx\u001b[0m\u001b[1;33m[\u001b[0m\u001b[1;34m'Weight'\u001b[0m\u001b[1;33m]\u001b[0m\u001b[1;33m,\u001b[0m\u001b[0mx\u001b[0m\u001b[1;33m[\u001b[0m\u001b[1;34m'Age'\u001b[0m\u001b[1;33m]\u001b[0m\u001b[1;33m,\u001b[0m \u001b[0mx\u001b[0m\u001b[1;33m[\u001b[0m\u001b[1;34m'Sport'\u001b[0m\u001b[1;33m]\u001b[0m\u001b[1;33m,\u001b[0m\u001b[0mx\u001b[0m\u001b[1;33m[\u001b[0m\u001b[1;34m'Height'\u001b[0m\u001b[1;33m]\u001b[0m\u001b[1;33m,\u001b[0m\u001b[0mx\u001b[0m\u001b[1;33m[\u001b[0m\u001b[1;34m'Sex'\u001b[0m\u001b[1;33m]\u001b[0m\u001b[1;33m)\u001b[0m\u001b[1;33m,\u001b[0m\u001b[0maxis\u001b[0m\u001b[1;33m=\u001b[0m\u001b[1;36m1\u001b[0m\u001b[1;33m)\u001b[0m\u001b[1;33m\u001b[0m\u001b[1;33m\u001b[0m\u001b[0m\n\u001b[0m",
      "\u001b[1;32m~\\anaconda3\\lib\\site-packages\\pandas\\core\\frame.py\u001b[0m in \u001b[0;36mapply\u001b[1;34m(self, func, axis, raw, result_type, args, **kwds)\u001b[0m\n\u001b[0;32m   7546\u001b[0m             \u001b[0mkwds\u001b[0m\u001b[1;33m=\u001b[0m\u001b[0mkwds\u001b[0m\u001b[1;33m,\u001b[0m\u001b[1;33m\u001b[0m\u001b[1;33m\u001b[0m\u001b[0m\n\u001b[0;32m   7547\u001b[0m         )\n\u001b[1;32m-> 7548\u001b[1;33m         \u001b[1;32mreturn\u001b[0m \u001b[0mop\u001b[0m\u001b[1;33m.\u001b[0m\u001b[0mget_result\u001b[0m\u001b[1;33m(\u001b[0m\u001b[1;33m)\u001b[0m\u001b[1;33m\u001b[0m\u001b[1;33m\u001b[0m\u001b[0m\n\u001b[0m\u001b[0;32m   7549\u001b[0m \u001b[1;33m\u001b[0m\u001b[0m\n\u001b[0;32m   7550\u001b[0m     \u001b[1;32mdef\u001b[0m \u001b[0mapplymap\u001b[0m\u001b[1;33m(\u001b[0m\u001b[0mself\u001b[0m\u001b[1;33m,\u001b[0m \u001b[0mfunc\u001b[0m\u001b[1;33m)\u001b[0m \u001b[1;33m->\u001b[0m \u001b[1;34m\"DataFrame\"\u001b[0m\u001b[1;33m:\u001b[0m\u001b[1;33m\u001b[0m\u001b[1;33m\u001b[0m\u001b[0m\n",
      "\u001b[1;32m~\\anaconda3\\lib\\site-packages\\pandas\\core\\apply.py\u001b[0m in \u001b[0;36mget_result\u001b[1;34m(self)\u001b[0m\n\u001b[0;32m    178\u001b[0m             \u001b[1;32mreturn\u001b[0m \u001b[0mself\u001b[0m\u001b[1;33m.\u001b[0m\u001b[0mapply_raw\u001b[0m\u001b[1;33m(\u001b[0m\u001b[1;33m)\u001b[0m\u001b[1;33m\u001b[0m\u001b[1;33m\u001b[0m\u001b[0m\n\u001b[0;32m    179\u001b[0m \u001b[1;33m\u001b[0m\u001b[0m\n\u001b[1;32m--> 180\u001b[1;33m         \u001b[1;32mreturn\u001b[0m \u001b[0mself\u001b[0m\u001b[1;33m.\u001b[0m\u001b[0mapply_standard\u001b[0m\u001b[1;33m(\u001b[0m\u001b[1;33m)\u001b[0m\u001b[1;33m\u001b[0m\u001b[1;33m\u001b[0m\u001b[0m\n\u001b[0m\u001b[0;32m    181\u001b[0m \u001b[1;33m\u001b[0m\u001b[0m\n\u001b[0;32m    182\u001b[0m     \u001b[1;32mdef\u001b[0m \u001b[0mapply_empty_result\u001b[0m\u001b[1;33m(\u001b[0m\u001b[0mself\u001b[0m\u001b[1;33m)\u001b[0m\u001b[1;33m:\u001b[0m\u001b[1;33m\u001b[0m\u001b[1;33m\u001b[0m\u001b[0m\n",
      "\u001b[1;32m~\\anaconda3\\lib\\site-packages\\pandas\\core\\apply.py\u001b[0m in \u001b[0;36mapply_standard\u001b[1;34m(self)\u001b[0m\n\u001b[0;32m    269\u001b[0m \u001b[1;33m\u001b[0m\u001b[0m\n\u001b[0;32m    270\u001b[0m     \u001b[1;32mdef\u001b[0m \u001b[0mapply_standard\u001b[0m\u001b[1;33m(\u001b[0m\u001b[0mself\u001b[0m\u001b[1;33m)\u001b[0m\u001b[1;33m:\u001b[0m\u001b[1;33m\u001b[0m\u001b[1;33m\u001b[0m\u001b[0m\n\u001b[1;32m--> 271\u001b[1;33m         \u001b[0mresults\u001b[0m\u001b[1;33m,\u001b[0m \u001b[0mres_index\u001b[0m \u001b[1;33m=\u001b[0m \u001b[0mself\u001b[0m\u001b[1;33m.\u001b[0m\u001b[0mapply_series_generator\u001b[0m\u001b[1;33m(\u001b[0m\u001b[1;33m)\u001b[0m\u001b[1;33m\u001b[0m\u001b[1;33m\u001b[0m\u001b[0m\n\u001b[0m\u001b[0;32m    272\u001b[0m \u001b[1;33m\u001b[0m\u001b[0m\n\u001b[0;32m    273\u001b[0m         \u001b[1;31m# wrap results\u001b[0m\u001b[1;33m\u001b[0m\u001b[1;33m\u001b[0m\u001b[1;33m\u001b[0m\u001b[0m\n",
      "\u001b[1;32m~\\anaconda3\\lib\\site-packages\\pandas\\core\\apply.py\u001b[0m in \u001b[0;36mapply_series_generator\u001b[1;34m(self)\u001b[0m\n\u001b[0;32m    298\u001b[0m                 \u001b[1;32mfor\u001b[0m \u001b[0mi\u001b[0m\u001b[1;33m,\u001b[0m \u001b[0mv\u001b[0m \u001b[1;32min\u001b[0m \u001b[0menumerate\u001b[0m\u001b[1;33m(\u001b[0m\u001b[0mseries_gen\u001b[0m\u001b[1;33m)\u001b[0m\u001b[1;33m:\u001b[0m\u001b[1;33m\u001b[0m\u001b[1;33m\u001b[0m\u001b[0m\n\u001b[0;32m    299\u001b[0m                     \u001b[1;31m# ignore SettingWithCopy here in case the user mutates\u001b[0m\u001b[1;33m\u001b[0m\u001b[1;33m\u001b[0m\u001b[1;33m\u001b[0m\u001b[0m\n\u001b[1;32m--> 300\u001b[1;33m                     \u001b[0mresults\u001b[0m\u001b[1;33m[\u001b[0m\u001b[0mi\u001b[0m\u001b[1;33m]\u001b[0m \u001b[1;33m=\u001b[0m \u001b[0mself\u001b[0m\u001b[1;33m.\u001b[0m\u001b[0mf\u001b[0m\u001b[1;33m(\u001b[0m\u001b[0mv\u001b[0m\u001b[1;33m)\u001b[0m\u001b[1;33m\u001b[0m\u001b[1;33m\u001b[0m\u001b[0m\n\u001b[0m\u001b[0;32m    301\u001b[0m                     \u001b[1;32mif\u001b[0m \u001b[0misinstance\u001b[0m\u001b[1;33m(\u001b[0m\u001b[0mresults\u001b[0m\u001b[1;33m[\u001b[0m\u001b[0mi\u001b[0m\u001b[1;33m]\u001b[0m\u001b[1;33m,\u001b[0m \u001b[0mABCSeries\u001b[0m\u001b[1;33m)\u001b[0m\u001b[1;33m:\u001b[0m\u001b[1;33m\u001b[0m\u001b[1;33m\u001b[0m\u001b[0m\n\u001b[0;32m    302\u001b[0m                         \u001b[1;31m# If we have a view on v, we need to make a copy because\u001b[0m\u001b[1;33m\u001b[0m\u001b[1;33m\u001b[0m\u001b[1;33m\u001b[0m\u001b[0m\n",
      "\u001b[1;32m<ipython-input-17-6a56a41e45db>\u001b[0m in \u001b[0;36m<lambda>\u001b[1;34m(x)\u001b[0m\n\u001b[1;32m----> 1\u001b[1;33m \u001b[0mathlete_events\u001b[0m\u001b[1;33m[\u001b[0m\u001b[1;34m'Weight'\u001b[0m\u001b[1;33m]\u001b[0m\u001b[1;33m=\u001b[0m\u001b[0mathlete_events\u001b[0m\u001b[1;33m.\u001b[0m\u001b[0mapply\u001b[0m\u001b[1;33m(\u001b[0m\u001b[1;32mlambda\u001b[0m \u001b[0mx\u001b[0m\u001b[1;33m:\u001b[0m \u001b[0mfillWeight\u001b[0m\u001b[1;33m(\u001b[0m\u001b[0mx\u001b[0m\u001b[1;33m[\u001b[0m\u001b[1;34m'Weight'\u001b[0m\u001b[1;33m]\u001b[0m\u001b[1;33m,\u001b[0m\u001b[0mx\u001b[0m\u001b[1;33m[\u001b[0m\u001b[1;34m'Age'\u001b[0m\u001b[1;33m]\u001b[0m\u001b[1;33m,\u001b[0m \u001b[0mx\u001b[0m\u001b[1;33m[\u001b[0m\u001b[1;34m'Sport'\u001b[0m\u001b[1;33m]\u001b[0m\u001b[1;33m,\u001b[0m\u001b[0mx\u001b[0m\u001b[1;33m[\u001b[0m\u001b[1;34m'Height'\u001b[0m\u001b[1;33m]\u001b[0m\u001b[1;33m,\u001b[0m\u001b[0mx\u001b[0m\u001b[1;33m[\u001b[0m\u001b[1;34m'Sex'\u001b[0m\u001b[1;33m]\u001b[0m\u001b[1;33m)\u001b[0m\u001b[1;33m,\u001b[0m\u001b[0maxis\u001b[0m\u001b[1;33m=\u001b[0m\u001b[1;36m1\u001b[0m\u001b[1;33m)\u001b[0m\u001b[1;33m\u001b[0m\u001b[1;33m\u001b[0m\u001b[0m\n\u001b[0m",
      "\u001b[1;32m<ipython-input-16-a9f0239e6506>\u001b[0m in \u001b[0;36mfillWeight\u001b[1;34m(weight, age, sport, height, sex)\u001b[0m\n\u001b[0;32m     14\u001b[0m \u001b[1;33m\u001b[0m\u001b[0m\n\u001b[0;32m     15\u001b[0m         \u001b[1;32melif\u001b[0m\u001b[1;33m(\u001b[0m\u001b[1;33m(\u001b[0m\u001b[0mage\u001b[0m\u001b[1;33m<\u001b[0m\u001b[1;36m18\u001b[0m\u001b[1;33m)\u001b[0m\u001b[1;33m&\u001b[0m\u001b[1;33m(\u001b[0m\u001b[0msex\u001b[0m\u001b[1;33m==\u001b[0m\u001b[1;34m'M'\u001b[0m\u001b[1;33m)\u001b[0m\u001b[1;33m)\u001b[0m\u001b[1;33m:\u001b[0m\u001b[1;33m\u001b[0m\u001b[1;33m\u001b[0m\u001b[0m\n\u001b[1;32m---> 16\u001b[1;33m             \u001b[1;32mif\u001b[0m \u001b[1;33m(\u001b[0m\u001b[0mpd\u001b[0m\u001b[1;33m.\u001b[0m\u001b[0misnull\u001b[0m\u001b[1;33m(\u001b[0m\u001b[0mweight_avg_under_18\u001b[0m\u001b[1;33m[\u001b[0m\u001b[0msport\u001b[0m\u001b[1;33m,\u001b[0m\u001b[0mheight\u001b[0m\u001b[1;33m,\u001b[0m\u001b[0msex\u001b[0m\u001b[1;33m]\u001b[0m\u001b[1;33m)\u001b[0m\u001b[1;33m)\u001b[0m\u001b[1;33m:\u001b[0m\u001b[1;33m\u001b[0m\u001b[1;33m\u001b[0m\u001b[0m\n\u001b[0m\u001b[0;32m     17\u001b[0m                 \u001b[1;32mreturn\u001b[0m \u001b[0mageHeightUnder18M\u001b[0m\u001b[1;33m(\u001b[0m\u001b[0mheight\u001b[0m\u001b[1;33m)\u001b[0m\u001b[1;33m\u001b[0m\u001b[1;33m\u001b[0m\u001b[0m\n\u001b[0;32m     18\u001b[0m             \u001b[1;32melse\u001b[0m\u001b[1;33m:\u001b[0m\u001b[1;33m\u001b[0m\u001b[1;33m\u001b[0m\u001b[0m\n",
      "\u001b[1;32m~\\anaconda3\\lib\\site-packages\\pandas\\core\\series.py\u001b[0m in \u001b[0;36m__getitem__\u001b[1;34m(self, key)\u001b[0m\n\u001b[0;32m    894\u001b[0m                     \u001b[1;31m# We still have the corner case where a tuple is a key\u001b[0m\u001b[1;33m\u001b[0m\u001b[1;33m\u001b[0m\u001b[1;33m\u001b[0m\u001b[0m\n\u001b[0;32m    895\u001b[0m                     \u001b[1;31m# in the first level of our MultiIndex\u001b[0m\u001b[1;33m\u001b[0m\u001b[1;33m\u001b[0m\u001b[1;33m\u001b[0m\u001b[0m\n\u001b[1;32m--> 896\u001b[1;33m                     \u001b[1;32mreturn\u001b[0m \u001b[0mself\u001b[0m\u001b[1;33m.\u001b[0m\u001b[0m_get_values_tuple\u001b[0m\u001b[1;33m(\u001b[0m\u001b[0mkey\u001b[0m\u001b[1;33m)\u001b[0m\u001b[1;33m\u001b[0m\u001b[1;33m\u001b[0m\u001b[0m\n\u001b[0m\u001b[0;32m    897\u001b[0m \u001b[1;33m\u001b[0m\u001b[0m\n\u001b[0;32m    898\u001b[0m         \u001b[1;32mif\u001b[0m \u001b[0mis_iterator\u001b[0m\u001b[1;33m(\u001b[0m\u001b[0mkey\u001b[0m\u001b[1;33m)\u001b[0m\u001b[1;33m:\u001b[0m\u001b[1;33m\u001b[0m\u001b[1;33m\u001b[0m\u001b[0m\n",
      "\u001b[1;32m~\\anaconda3\\lib\\site-packages\\pandas\\core\\series.py\u001b[0m in \u001b[0;36m_get_values_tuple\u001b[1;34m(self, key)\u001b[0m\n\u001b[0;32m    957\u001b[0m \u001b[1;33m\u001b[0m\u001b[0m\n\u001b[0;32m    958\u001b[0m         \u001b[1;31m# If key is contained, would have returned by now\u001b[0m\u001b[1;33m\u001b[0m\u001b[1;33m\u001b[0m\u001b[1;33m\u001b[0m\u001b[0m\n\u001b[1;32m--> 959\u001b[1;33m         \u001b[0mindexer\u001b[0m\u001b[1;33m,\u001b[0m \u001b[0mnew_index\u001b[0m \u001b[1;33m=\u001b[0m \u001b[0mself\u001b[0m\u001b[1;33m.\u001b[0m\u001b[0mindex\u001b[0m\u001b[1;33m.\u001b[0m\u001b[0mget_loc_level\u001b[0m\u001b[1;33m(\u001b[0m\u001b[0mkey\u001b[0m\u001b[1;33m)\u001b[0m\u001b[1;33m\u001b[0m\u001b[1;33m\u001b[0m\u001b[0m\n\u001b[0m\u001b[0;32m    960\u001b[0m         return self._constructor(self._values[indexer], index=new_index).__finalize__(\n\u001b[0;32m    961\u001b[0m             \u001b[0mself\u001b[0m\u001b[1;33m,\u001b[0m\u001b[1;33m\u001b[0m\u001b[1;33m\u001b[0m\u001b[0m\n",
      "\u001b[1;32m~\\anaconda3\\lib\\site-packages\\pandas\\core\\indexes\\multi.py\u001b[0m in \u001b[0;36mget_loc_level\u001b[1;34m(self, key, level, drop_level)\u001b[0m\n\u001b[0;32m   2850\u001b[0m                         \u001b[1;32mreturn\u001b[0m \u001b[1;33m(\u001b[0m\u001b[0mself\u001b[0m\u001b[1;33m.\u001b[0m\u001b[0m_engine\u001b[0m\u001b[1;33m.\u001b[0m\u001b[0mget_loc\u001b[0m\u001b[1;33m(\u001b[0m\u001b[0mkey\u001b[0m\u001b[1;33m)\u001b[0m\u001b[1;33m,\u001b[0m \u001b[1;32mNone\u001b[0m\u001b[1;33m)\u001b[0m\u001b[1;33m\u001b[0m\u001b[1;33m\u001b[0m\u001b[0m\n\u001b[0;32m   2851\u001b[0m                     \u001b[1;32mexcept\u001b[0m \u001b[0mKeyError\u001b[0m \u001b[1;32mas\u001b[0m \u001b[0me\u001b[0m\u001b[1;33m:\u001b[0m\u001b[1;33m\u001b[0m\u001b[1;33m\u001b[0m\u001b[0m\n\u001b[1;32m-> 2852\u001b[1;33m                         \u001b[1;32mraise\u001b[0m \u001b[0mKeyError\u001b[0m\u001b[1;33m(\u001b[0m\u001b[0mkey\u001b[0m\u001b[1;33m)\u001b[0m \u001b[1;32mfrom\u001b[0m \u001b[0me\u001b[0m\u001b[1;33m\u001b[0m\u001b[1;33m\u001b[0m\u001b[0m\n\u001b[0m\u001b[0;32m   2853\u001b[0m                 \u001b[1;32melse\u001b[0m\u001b[1;33m:\u001b[0m\u001b[1;33m\u001b[0m\u001b[1;33m\u001b[0m\u001b[0m\n\u001b[0;32m   2854\u001b[0m                     \u001b[1;32mreturn\u001b[0m \u001b[0mpartial_selection\u001b[0m\u001b[1;33m(\u001b[0m\u001b[0mkey\u001b[0m\u001b[1;33m)\u001b[0m\u001b[1;33m\u001b[0m\u001b[1;33m\u001b[0m\u001b[0m\n",
      "\u001b[1;31mKeyError\u001b[0m: ('Rowing', 167, 'M')"
     ]
    }
   ],
   "source": [
    "athlete_events['Weight']=athlete_events.apply(lambda x: fillWeight(x['Weight'],x['Age'], x['Sport'],x['Height'],x['Sex']),axis=1)"
   ]
  },
  {
   "cell_type": "code",
   "execution_count": null,
   "metadata": {},
   "outputs": [],
   "source": []
  },
  {
   "cell_type": "code",
   "execution_count": 1,
   "metadata": {},
   "outputs": [],
   "source": [
    "#The below is getting weight depending only on SEX, Sport,Age"
   ]
  },
  {
   "cell_type": "code",
   "execution_count": 13,
   "metadata": {},
   "outputs": [],
   "source": [
    "weight_avg_above_18A= athletes_above_18.groupby(['Sport','Sex']).mean()['Weight']\n",
    "weight_avg_under_18U= athletes_under_18.groupby(['Sport','Sex']).mean()['Weight']"
   ]
  },
  {
   "cell_type": "code",
   "execution_count": 14,
   "metadata": {},
   "outputs": [],
   "source": [
    "def ageAbove18MM():\n",
    "    return athletes_above_18[(athletes_above_18['Age']>=18) &(athletes_above_18['Sex']=='M')]['Weight'].mean()\n",
    "def ageUnder18MM():\n",
    "    return athletes_under_18[(athletes_under_18['Age']<18) &(athletes_under_18['Sex']=='M')]['Weight'].mean()\n",
    "def ageAbove18FF():\n",
    "    return athletes_above_18[(athletes_above_18['Age']>=18) &(athletes_above_18['Sex']=='F')]['Weight'].mean()\n",
    "def ageUnder18FF():\n",
    "    return athletes_under_18[(athletes_under_18['Age']<18) &(athletes_under_18['Sex']=='F')]['Weight'].mean()"
   ]
  },
  {
   "cell_type": "code",
   "execution_count": 16,
   "metadata": {},
   "outputs": [],
   "source": [
    "def fillWeight2(weight,age,sport,sex):\n",
    "    if pd.isnull(weight):\n",
    "        if((age>=18)&(sex=='M')):\n",
    "            if (pd.isnull(weight_avg_above_18A[sport,sex])):\n",
    "                return ageAbove18MM()\n",
    "            else:\n",
    "                return weight_avg_above_18A[sport,sex]\n",
    "        elif((age>=18)&(sex=='F')):\n",
    "            if (pd.isnull(weight_avg_above_18A[sport,sex])):\n",
    "                return ageAbove18FF()\n",
    "            else:\n",
    "                return weight_avg_above_18A[sport,sex]\n",
    "            \n",
    "        \n",
    "        \n",
    "        elif((age<18)&(sex=='M')):\n",
    "            if (pd.isnull(weight_avg_under_18U[sport,sex])):\n",
    "                return ageUnder18MM()\n",
    "            else:\n",
    "                return weight_avg_under_18U[sport,sex]\n",
    "        else:\n",
    "               if (pd.isnull(weight_avg_under_18U[sport,sex])):\n",
    "                return ageUnder18FF()\n",
    "               else:\n",
    "                return weight_avg_under_18U[sport,sex]\n",
    "    else:\n",
    "        return weight"
   ]
  },
  {
   "cell_type": "code",
   "execution_count": 17,
   "metadata": {},
   "outputs": [],
   "source": [
    "athlete_events['Weight']=athlete_events.apply(lambda x: fillWeight2(x['Weight'],x['Age'], x['Sport'],x['Sex']),axis=1)"
   ]
  },
  {
   "cell_type": "code",
   "execution_count": 18,
   "metadata": {},
   "outputs": [
    {
     "name": "stdout",
     "output_type": "stream",
     "text": [
      "<class 'pandas.core.frame.DataFrame'>\n",
      "RangeIndex: 271116 entries, 0 to 271115\n",
      "Data columns (total 15 columns):\n",
      " #   Column  Non-Null Count   Dtype  \n",
      "---  ------  --------------   -----  \n",
      " 0   ID      271116 non-null  int64  \n",
      " 1   Name    271116 non-null  object \n",
      " 2   Sex     271116 non-null  object \n",
      " 3   Age     271116 non-null  float64\n",
      " 4   Height  271116 non-null  int32  \n",
      " 5   Weight  271116 non-null  float64\n",
      " 6   Team    271116 non-null  object \n",
      " 7   NOC     271116 non-null  object \n",
      " 8   Games   271116 non-null  object \n",
      " 9   Year    271116 non-null  int64  \n",
      " 10  Season  271116 non-null  object \n",
      " 11  City    271116 non-null  object \n",
      " 12  Sport   271116 non-null  object \n",
      " 13  Event   271116 non-null  object \n",
      " 14  Medal   39783 non-null   object \n",
      "dtypes: float64(2), int32(1), int64(2), object(10)\n",
      "memory usage: 30.0+ MB\n"
     ]
    }
   ],
   "source": [
    "athlete_events.info()"
   ]
  },
  {
   "cell_type": "code",
   "execution_count": null,
   "metadata": {},
   "outputs": [],
   "source": []
  },
  {
   "cell_type": "code",
   "execution_count": null,
   "metadata": {},
   "outputs": [],
   "source": []
  },
  {
   "cell_type": "code",
   "execution_count": 21,
   "metadata": {},
   "outputs": [
    {
     "data": {
      "text/plain": [
       "0            Basketball\n",
       "1                  Judo\n",
       "2              Football\n",
       "3            Tug-Of-War\n",
       "4         Speed Skating\n",
       "              ...      \n",
       "271111             Luge\n",
       "271112      Ski Jumping\n",
       "271113      Ski Jumping\n",
       "271114        Bobsleigh\n",
       "271115        Bobsleigh\n",
       "Name: Sport, Length: 271116, dtype: object"
      ]
     },
     "execution_count": 21,
     "metadata": {},
     "output_type": "execute_result"
    }
   ],
   "source": [
    "athlete_events['Sport']"
   ]
  },
  {
   "cell_type": "code",
   "execution_count": 25,
   "metadata": {},
   "outputs": [
    {
     "data": {
      "text/html": [
       "<div>\n",
       "<style scoped>\n",
       "    .dataframe tbody tr th:only-of-type {\n",
       "        vertical-align: middle;\n",
       "    }\n",
       "\n",
       "    .dataframe tbody tr th {\n",
       "        vertical-align: top;\n",
       "    }\n",
       "\n",
       "    .dataframe thead th {\n",
       "        text-align: right;\n",
       "    }\n",
       "</style>\n",
       "<table border=\"1\" class=\"dataframe\">\n",
       "  <thead>\n",
       "    <tr style=\"text-align: right;\">\n",
       "      <th></th>\n",
       "      <th>ID</th>\n",
       "      <th>Name</th>\n",
       "      <th>Sex</th>\n",
       "      <th>Age</th>\n",
       "      <th>Height</th>\n",
       "      <th>Weight</th>\n",
       "      <th>Team</th>\n",
       "      <th>NOC</th>\n",
       "      <th>Games</th>\n",
       "      <th>Year</th>\n",
       "      <th>Season</th>\n",
       "      <th>City</th>\n",
       "      <th>Sport</th>\n",
       "      <th>Event</th>\n",
       "      <th>Medal</th>\n",
       "    </tr>\n",
       "  </thead>\n",
       "  <tbody>\n",
       "    <tr>\n",
       "      <th>40849</th>\n",
       "      <td>21049</td>\n",
       "      <td>Choi Myong-Hui</td>\n",
       "      <td>F</td>\n",
       "      <td>14.0</td>\n",
       "      <td>135.0</td>\n",
       "      <td>25.0</td>\n",
       "      <td>North Korea</td>\n",
       "      <td>PRK</td>\n",
       "      <td>1980 Summer</td>\n",
       "      <td>1980</td>\n",
       "      <td>Summer</td>\n",
       "      <td>Moskva</td>\n",
       "      <td>Gymnastics</td>\n",
       "      <td>Gymnastics Women's Individual All-Around</td>\n",
       "      <td>NaN</td>\n",
       "    </tr>\n",
       "    <tr>\n",
       "      <th>40850</th>\n",
       "      <td>21049</td>\n",
       "      <td>Choi Myong-Hui</td>\n",
       "      <td>F</td>\n",
       "      <td>14.0</td>\n",
       "      <td>135.0</td>\n",
       "      <td>25.0</td>\n",
       "      <td>North Korea</td>\n",
       "      <td>PRK</td>\n",
       "      <td>1980 Summer</td>\n",
       "      <td>1980</td>\n",
       "      <td>Summer</td>\n",
       "      <td>Moskva</td>\n",
       "      <td>Gymnastics</td>\n",
       "      <td>Gymnastics Women's Team All-Around</td>\n",
       "      <td>NaN</td>\n",
       "    </tr>\n",
       "    <tr>\n",
       "      <th>40851</th>\n",
       "      <td>21049</td>\n",
       "      <td>Choi Myong-Hui</td>\n",
       "      <td>F</td>\n",
       "      <td>14.0</td>\n",
       "      <td>135.0</td>\n",
       "      <td>25.0</td>\n",
       "      <td>North Korea</td>\n",
       "      <td>PRK</td>\n",
       "      <td>1980 Summer</td>\n",
       "      <td>1980</td>\n",
       "      <td>Summer</td>\n",
       "      <td>Moskva</td>\n",
       "      <td>Gymnastics</td>\n",
       "      <td>Gymnastics Women's Floor Exercise</td>\n",
       "      <td>NaN</td>\n",
       "    </tr>\n",
       "    <tr>\n",
       "      <th>40852</th>\n",
       "      <td>21049</td>\n",
       "      <td>Choi Myong-Hui</td>\n",
       "      <td>F</td>\n",
       "      <td>14.0</td>\n",
       "      <td>135.0</td>\n",
       "      <td>25.0</td>\n",
       "      <td>North Korea</td>\n",
       "      <td>PRK</td>\n",
       "      <td>1980 Summer</td>\n",
       "      <td>1980</td>\n",
       "      <td>Summer</td>\n",
       "      <td>Moskva</td>\n",
       "      <td>Gymnastics</td>\n",
       "      <td>Gymnastics Women's Horse Vault</td>\n",
       "      <td>NaN</td>\n",
       "    </tr>\n",
       "    <tr>\n",
       "      <th>40853</th>\n",
       "      <td>21049</td>\n",
       "      <td>Choi Myong-Hui</td>\n",
       "      <td>F</td>\n",
       "      <td>14.0</td>\n",
       "      <td>135.0</td>\n",
       "      <td>25.0</td>\n",
       "      <td>North Korea</td>\n",
       "      <td>PRK</td>\n",
       "      <td>1980 Summer</td>\n",
       "      <td>1980</td>\n",
       "      <td>Summer</td>\n",
       "      <td>Moskva</td>\n",
       "      <td>Gymnastics</td>\n",
       "      <td>Gymnastics Women's Uneven Bars</td>\n",
       "      <td>NaN</td>\n",
       "    </tr>\n",
       "    <tr>\n",
       "      <th>40854</th>\n",
       "      <td>21049</td>\n",
       "      <td>Choi Myong-Hui</td>\n",
       "      <td>F</td>\n",
       "      <td>14.0</td>\n",
       "      <td>135.0</td>\n",
       "      <td>25.0</td>\n",
       "      <td>North Korea</td>\n",
       "      <td>PRK</td>\n",
       "      <td>1980 Summer</td>\n",
       "      <td>1980</td>\n",
       "      <td>Summer</td>\n",
       "      <td>Moskva</td>\n",
       "      <td>Gymnastics</td>\n",
       "      <td>Gymnastics Women's Balance Beam</td>\n",
       "      <td>NaN</td>\n",
       "    </tr>\n",
       "    <tr>\n",
       "      <th>109863</th>\n",
       "      <td>55553</td>\n",
       "      <td>Anita Jokiel</td>\n",
       "      <td>F</td>\n",
       "      <td>13.0</td>\n",
       "      <td>142.0</td>\n",
       "      <td>28.0</td>\n",
       "      <td>Poland</td>\n",
       "      <td>POL</td>\n",
       "      <td>1980 Summer</td>\n",
       "      <td>1980</td>\n",
       "      <td>Summer</td>\n",
       "      <td>Moskva</td>\n",
       "      <td>Gymnastics</td>\n",
       "      <td>Gymnastics Women's Individual All-Around</td>\n",
       "      <td>NaN</td>\n",
       "    </tr>\n",
       "    <tr>\n",
       "      <th>109864</th>\n",
       "      <td>55553</td>\n",
       "      <td>Anita Jokiel</td>\n",
       "      <td>F</td>\n",
       "      <td>13.0</td>\n",
       "      <td>142.0</td>\n",
       "      <td>28.0</td>\n",
       "      <td>Poland</td>\n",
       "      <td>POL</td>\n",
       "      <td>1980 Summer</td>\n",
       "      <td>1980</td>\n",
       "      <td>Summer</td>\n",
       "      <td>Moskva</td>\n",
       "      <td>Gymnastics</td>\n",
       "      <td>Gymnastics Women's Team All-Around</td>\n",
       "      <td>NaN</td>\n",
       "    </tr>\n",
       "    <tr>\n",
       "      <th>109865</th>\n",
       "      <td>55553</td>\n",
       "      <td>Anita Jokiel</td>\n",
       "      <td>F</td>\n",
       "      <td>13.0</td>\n",
       "      <td>142.0</td>\n",
       "      <td>28.0</td>\n",
       "      <td>Poland</td>\n",
       "      <td>POL</td>\n",
       "      <td>1980 Summer</td>\n",
       "      <td>1980</td>\n",
       "      <td>Summer</td>\n",
       "      <td>Moskva</td>\n",
       "      <td>Gymnastics</td>\n",
       "      <td>Gymnastics Women's Floor Exercise</td>\n",
       "      <td>NaN</td>\n",
       "    </tr>\n",
       "    <tr>\n",
       "      <th>109866</th>\n",
       "      <td>55553</td>\n",
       "      <td>Anita Jokiel</td>\n",
       "      <td>F</td>\n",
       "      <td>13.0</td>\n",
       "      <td>142.0</td>\n",
       "      <td>28.0</td>\n",
       "      <td>Poland</td>\n",
       "      <td>POL</td>\n",
       "      <td>1980 Summer</td>\n",
       "      <td>1980</td>\n",
       "      <td>Summer</td>\n",
       "      <td>Moskva</td>\n",
       "      <td>Gymnastics</td>\n",
       "      <td>Gymnastics Women's Horse Vault</td>\n",
       "      <td>NaN</td>\n",
       "    </tr>\n",
       "    <tr>\n",
       "      <th>109867</th>\n",
       "      <td>55553</td>\n",
       "      <td>Anita Jokiel</td>\n",
       "      <td>F</td>\n",
       "      <td>13.0</td>\n",
       "      <td>142.0</td>\n",
       "      <td>28.0</td>\n",
       "      <td>Poland</td>\n",
       "      <td>POL</td>\n",
       "      <td>1980 Summer</td>\n",
       "      <td>1980</td>\n",
       "      <td>Summer</td>\n",
       "      <td>Moskva</td>\n",
       "      <td>Gymnastics</td>\n",
       "      <td>Gymnastics Women's Uneven Bars</td>\n",
       "      <td>NaN</td>\n",
       "    </tr>\n",
       "    <tr>\n",
       "      <th>109868</th>\n",
       "      <td>55553</td>\n",
       "      <td>Anita Jokiel</td>\n",
       "      <td>F</td>\n",
       "      <td>13.0</td>\n",
       "      <td>142.0</td>\n",
       "      <td>28.0</td>\n",
       "      <td>Poland</td>\n",
       "      <td>POL</td>\n",
       "      <td>1980 Summer</td>\n",
       "      <td>1980</td>\n",
       "      <td>Summer</td>\n",
       "      <td>Moskva</td>\n",
       "      <td>Gymnastics</td>\n",
       "      <td>Gymnastics Women's Balance Beam</td>\n",
       "      <td>NaN</td>\n",
       "    </tr>\n",
       "    <tr>\n",
       "      <th>256836</th>\n",
       "      <td>128605</td>\n",
       "      <td>Wang Xin (Ruoxue-)</td>\n",
       "      <td>F</td>\n",
       "      <td>15.0</td>\n",
       "      <td>137.0</td>\n",
       "      <td>28.0</td>\n",
       "      <td>China</td>\n",
       "      <td>CHN</td>\n",
       "      <td>2008 Summer</td>\n",
       "      <td>2008</td>\n",
       "      <td>Summer</td>\n",
       "      <td>Beijing</td>\n",
       "      <td>Diving</td>\n",
       "      <td>Diving Women's Platform</td>\n",
       "      <td>Bronze</td>\n",
       "    </tr>\n",
       "    <tr>\n",
       "      <th>256837</th>\n",
       "      <td>128605</td>\n",
       "      <td>Wang Xin (Ruoxue-)</td>\n",
       "      <td>F</td>\n",
       "      <td>15.0</td>\n",
       "      <td>137.0</td>\n",
       "      <td>28.0</td>\n",
       "      <td>China</td>\n",
       "      <td>CHN</td>\n",
       "      <td>2008 Summer</td>\n",
       "      <td>2008</td>\n",
       "      <td>Summer</td>\n",
       "      <td>Beijing</td>\n",
       "      <td>Diving</td>\n",
       "      <td>Diving Women's Synchronized Platform</td>\n",
       "      <td>Gold</td>\n",
       "    </tr>\n",
       "    <tr>\n",
       "      <th>264539</th>\n",
       "      <td>132383</td>\n",
       "      <td>Kana Yamawaki</td>\n",
       "      <td>F</td>\n",
       "      <td>16.0</td>\n",
       "      <td>141.0</td>\n",
       "      <td>28.0</td>\n",
       "      <td>Japan</td>\n",
       "      <td>JPN</td>\n",
       "      <td>2000 Summer</td>\n",
       "      <td>2000</td>\n",
       "      <td>Summer</td>\n",
       "      <td>Sydney</td>\n",
       "      <td>Gymnastics</td>\n",
       "      <td>Gymnastics Women's Individual All-Around</td>\n",
       "      <td>NaN</td>\n",
       "    </tr>\n",
       "    <tr>\n",
       "      <th>264540</th>\n",
       "      <td>132383</td>\n",
       "      <td>Kana Yamawaki</td>\n",
       "      <td>F</td>\n",
       "      <td>16.0</td>\n",
       "      <td>141.0</td>\n",
       "      <td>28.0</td>\n",
       "      <td>Japan</td>\n",
       "      <td>JPN</td>\n",
       "      <td>2000 Summer</td>\n",
       "      <td>2000</td>\n",
       "      <td>Summer</td>\n",
       "      <td>Sydney</td>\n",
       "      <td>Gymnastics</td>\n",
       "      <td>Gymnastics Women's Floor Exercise</td>\n",
       "      <td>NaN</td>\n",
       "    </tr>\n",
       "    <tr>\n",
       "      <th>264541</th>\n",
       "      <td>132383</td>\n",
       "      <td>Kana Yamawaki</td>\n",
       "      <td>F</td>\n",
       "      <td>16.0</td>\n",
       "      <td>141.0</td>\n",
       "      <td>28.0</td>\n",
       "      <td>Japan</td>\n",
       "      <td>JPN</td>\n",
       "      <td>2000 Summer</td>\n",
       "      <td>2000</td>\n",
       "      <td>Summer</td>\n",
       "      <td>Sydney</td>\n",
       "      <td>Gymnastics</td>\n",
       "      <td>Gymnastics Women's Horse Vault</td>\n",
       "      <td>NaN</td>\n",
       "    </tr>\n",
       "    <tr>\n",
       "      <th>264542</th>\n",
       "      <td>132383</td>\n",
       "      <td>Kana Yamawaki</td>\n",
       "      <td>F</td>\n",
       "      <td>16.0</td>\n",
       "      <td>141.0</td>\n",
       "      <td>28.0</td>\n",
       "      <td>Japan</td>\n",
       "      <td>JPN</td>\n",
       "      <td>2000 Summer</td>\n",
       "      <td>2000</td>\n",
       "      <td>Summer</td>\n",
       "      <td>Sydney</td>\n",
       "      <td>Gymnastics</td>\n",
       "      <td>Gymnastics Women's Uneven Bars</td>\n",
       "      <td>NaN</td>\n",
       "    </tr>\n",
       "    <tr>\n",
       "      <th>264543</th>\n",
       "      <td>132383</td>\n",
       "      <td>Kana Yamawaki</td>\n",
       "      <td>F</td>\n",
       "      <td>16.0</td>\n",
       "      <td>141.0</td>\n",
       "      <td>28.0</td>\n",
       "      <td>Japan</td>\n",
       "      <td>JPN</td>\n",
       "      <td>2000 Summer</td>\n",
       "      <td>2000</td>\n",
       "      <td>Summer</td>\n",
       "      <td>Sydney</td>\n",
       "      <td>Gymnastics</td>\n",
       "      <td>Gymnastics Women's Balance Beam</td>\n",
       "      <td>NaN</td>\n",
       "    </tr>\n",
       "    <tr>\n",
       "      <th>268586</th>\n",
       "      <td>134370</td>\n",
       "      <td>Albert Ferdinand \"Al\" Zerhusen</td>\n",
       "      <td>M</td>\n",
       "      <td>24.0</td>\n",
       "      <td>183.0</td>\n",
       "      <td>28.0</td>\n",
       "      <td>United States</td>\n",
       "      <td>USA</td>\n",
       "      <td>1956 Summer</td>\n",
       "      <td>1956</td>\n",
       "      <td>Summer</td>\n",
       "      <td>Melbourne</td>\n",
       "      <td>Football</td>\n",
       "      <td>Football Men's Football</td>\n",
       "      <td>NaN</td>\n",
       "    </tr>\n",
       "  </tbody>\n",
       "</table>\n",
       "</div>"
      ],
      "text/plain": [
       "            ID                            Name Sex   Age  Height  Weight  \\\n",
       "40849    21049                  Choi Myong-Hui   F  14.0   135.0    25.0   \n",
       "40850    21049                  Choi Myong-Hui   F  14.0   135.0    25.0   \n",
       "40851    21049                  Choi Myong-Hui   F  14.0   135.0    25.0   \n",
       "40852    21049                  Choi Myong-Hui   F  14.0   135.0    25.0   \n",
       "40853    21049                  Choi Myong-Hui   F  14.0   135.0    25.0   \n",
       "40854    21049                  Choi Myong-Hui   F  14.0   135.0    25.0   \n",
       "109863   55553                    Anita Jokiel   F  13.0   142.0    28.0   \n",
       "109864   55553                    Anita Jokiel   F  13.0   142.0    28.0   \n",
       "109865   55553                    Anita Jokiel   F  13.0   142.0    28.0   \n",
       "109866   55553                    Anita Jokiel   F  13.0   142.0    28.0   \n",
       "109867   55553                    Anita Jokiel   F  13.0   142.0    28.0   \n",
       "109868   55553                    Anita Jokiel   F  13.0   142.0    28.0   \n",
       "256836  128605              Wang Xin (Ruoxue-)   F  15.0   137.0    28.0   \n",
       "256837  128605              Wang Xin (Ruoxue-)   F  15.0   137.0    28.0   \n",
       "264539  132383                   Kana Yamawaki   F  16.0   141.0    28.0   \n",
       "264540  132383                   Kana Yamawaki   F  16.0   141.0    28.0   \n",
       "264541  132383                   Kana Yamawaki   F  16.0   141.0    28.0   \n",
       "264542  132383                   Kana Yamawaki   F  16.0   141.0    28.0   \n",
       "264543  132383                   Kana Yamawaki   F  16.0   141.0    28.0   \n",
       "268586  134370  Albert Ferdinand \"Al\" Zerhusen   M  24.0   183.0    28.0   \n",
       "\n",
       "                 Team  NOC        Games  Year  Season       City       Sport  \\\n",
       "40849     North Korea  PRK  1980 Summer  1980  Summer     Moskva  Gymnastics   \n",
       "40850     North Korea  PRK  1980 Summer  1980  Summer     Moskva  Gymnastics   \n",
       "40851     North Korea  PRK  1980 Summer  1980  Summer     Moskva  Gymnastics   \n",
       "40852     North Korea  PRK  1980 Summer  1980  Summer     Moskva  Gymnastics   \n",
       "40853     North Korea  PRK  1980 Summer  1980  Summer     Moskva  Gymnastics   \n",
       "40854     North Korea  PRK  1980 Summer  1980  Summer     Moskva  Gymnastics   \n",
       "109863         Poland  POL  1980 Summer  1980  Summer     Moskva  Gymnastics   \n",
       "109864         Poland  POL  1980 Summer  1980  Summer     Moskva  Gymnastics   \n",
       "109865         Poland  POL  1980 Summer  1980  Summer     Moskva  Gymnastics   \n",
       "109866         Poland  POL  1980 Summer  1980  Summer     Moskva  Gymnastics   \n",
       "109867         Poland  POL  1980 Summer  1980  Summer     Moskva  Gymnastics   \n",
       "109868         Poland  POL  1980 Summer  1980  Summer     Moskva  Gymnastics   \n",
       "256836          China  CHN  2008 Summer  2008  Summer    Beijing      Diving   \n",
       "256837          China  CHN  2008 Summer  2008  Summer    Beijing      Diving   \n",
       "264539          Japan  JPN  2000 Summer  2000  Summer     Sydney  Gymnastics   \n",
       "264540          Japan  JPN  2000 Summer  2000  Summer     Sydney  Gymnastics   \n",
       "264541          Japan  JPN  2000 Summer  2000  Summer     Sydney  Gymnastics   \n",
       "264542          Japan  JPN  2000 Summer  2000  Summer     Sydney  Gymnastics   \n",
       "264543          Japan  JPN  2000 Summer  2000  Summer     Sydney  Gymnastics   \n",
       "268586  United States  USA  1956 Summer  1956  Summer  Melbourne    Football   \n",
       "\n",
       "                                           Event   Medal  \n",
       "40849   Gymnastics Women's Individual All-Around     NaN  \n",
       "40850         Gymnastics Women's Team All-Around     NaN  \n",
       "40851          Gymnastics Women's Floor Exercise     NaN  \n",
       "40852             Gymnastics Women's Horse Vault     NaN  \n",
       "40853             Gymnastics Women's Uneven Bars     NaN  \n",
       "40854            Gymnastics Women's Balance Beam     NaN  \n",
       "109863  Gymnastics Women's Individual All-Around     NaN  \n",
       "109864        Gymnastics Women's Team All-Around     NaN  \n",
       "109865         Gymnastics Women's Floor Exercise     NaN  \n",
       "109866            Gymnastics Women's Horse Vault     NaN  \n",
       "109867            Gymnastics Women's Uneven Bars     NaN  \n",
       "109868           Gymnastics Women's Balance Beam     NaN  \n",
       "256836                   Diving Women's Platform  Bronze  \n",
       "256837      Diving Women's Synchronized Platform    Gold  \n",
       "264539  Gymnastics Women's Individual All-Around     NaN  \n",
       "264540         Gymnastics Women's Floor Exercise     NaN  \n",
       "264541            Gymnastics Women's Horse Vault     NaN  \n",
       "264542            Gymnastics Women's Uneven Bars     NaN  \n",
       "264543           Gymnastics Women's Balance Beam     NaN  \n",
       "268586                   Football Men's Football     NaN  "
      ]
     },
     "execution_count": 25,
     "metadata": {},
     "output_type": "execute_result"
    }
   ],
   "source": [
    "athlete_events[athlete_events['Weight']<30]"
   ]
  },
  {
   "cell_type": "code",
   "execution_count": 28,
   "metadata": {},
   "outputs": [
    {
     "data": {
      "text/plain": [
       "array(['Barcelona', 'London', 'Antwerpen', 'Paris', 'Calgary',\n",
       "       'Albertville', 'Lillehammer', 'Los Angeles', 'Salt Lake City',\n",
       "       'Helsinki', 'Lake Placid', 'Sydney', 'Atlanta', 'Stockholm',\n",
       "       'Sochi', 'Nagano', 'Torino', 'Beijing', 'Rio de Janeiro', 'Athina',\n",
       "       'Squaw Valley', 'Innsbruck', 'Sarajevo', 'Mexico City', 'Munich',\n",
       "       'Seoul', 'Berlin', 'Oslo', \"Cortina d'Ampezzo\", 'Melbourne',\n",
       "       'Roma', 'Amsterdam', 'Montreal', 'Moskva', 'Tokyo', 'Vancouver',\n",
       "       'Grenoble', 'Sapporo', 'Chamonix', 'St. Louis', 'Sankt Moritz',\n",
       "       'Garmisch-Partenkirchen'], dtype=object)"
      ]
     },
     "execution_count": 28,
     "metadata": {},
     "output_type": "execute_result"
    }
   ],
   "source": [
    "athlete_events['City'].unique()\n"
   ]
  },
  {
   "cell_type": "code",
   "execution_count": null,
   "metadata": {},
   "outputs": [],
   "source": []
  },
  {
   "cell_type": "code",
   "execution_count": 33,
   "metadata": {},
   "outputs": [],
   "source": [
    "Team_Year = (athlete_events.groupby(['NOC','Year'])).count()['Event']"
   ]
  },
  {
   "cell_type": "code",
   "execution_count": 34,
   "metadata": {},
   "outputs": [
    {
     "data": {
      "text/plain": [
       "NOC  Year\n",
       "AFG  1936    16\n",
       "     1948    25\n",
       "     1956    12\n",
       "     1960    16\n",
       "     1964     8\n",
       "             ..\n",
       "ZIM  2004    14\n",
       "     2008    16\n",
       "     2012     9\n",
       "     2014     2\n",
       "     2016    31\n",
       "Name: Event, Length: 3305, dtype: int64"
      ]
     },
     "execution_count": 34,
     "metadata": {},
     "output_type": "execute_result"
    }
   ],
   "source": [
    "Team_Year"
   ]
  },
  {
   "cell_type": "code",
   "execution_count": null,
   "metadata": {},
   "outputs": [],
   "source": []
  },
  {
   "cell_type": "code",
   "execution_count": 45,
   "metadata": {},
   "outputs": [],
   "source": [
    "x=athlete_events[(athlete_events['NOC']=='AFG')&(athlete_events['Year']==2014)]"
   ]
  },
  {
   "cell_type": "code",
   "execution_count": 71,
   "metadata": {},
   "outputs": [],
   "source": [
    "male=athlete_events[athlete_events['Sex']=='M']\n",
    "female=athlete_events[athlete_events['Sex']=='F']"
   ]
  },
  {
   "cell_type": "code",
   "execution_count": 74,
   "metadata": {},
   "outputs": [],
   "source": [
    "top10M=male.groupby('Name').count()['Medal'].sort_values(ascending=False).head(10)\n",
    "top10F=female.groupby('Name').count()['Medal'].sort_values(ascending=False).head(10)\n"
   ]
  },
  {
   "cell_type": "code",
   "execution_count": 75,
   "metadata": {},
   "outputs": [
    {
     "data": {
      "text/plain": [
       "<AxesSubplot:xlabel='Name'>"
      ]
     },
     "execution_count": 75,
     "metadata": {},
     "output_type": "execute_result"
    },
    {
     "data": {
      "image/png": "[encoded data removed]",
      "text/plain": [
       "<Figure size 432x288 with 1 Axes>"
      ]
     },
     "metadata": {
      "needs_background": "light"
     },
     "output_type": "display_data"
    }
   ],
   "source": [
    "top10M.plot(kind='bar')\n"
   ]
  },
  {
   "cell_type": "code",
   "execution_count": 88,
   "metadata": {},
   "outputs": [
    {
     "data": {
      "text/plain": [
       "<AxesSubplot:xlabel='Name'>"
      ]
     },
     "execution_count": 88,
     "metadata": {},
     "output_type": "execute_result"
    },
    {
     "data": {
      "image/png": "[encoded data removed]",
      "text/plain": [
       "<Figure size 432x288 with 1 Axes>"
      ]
     },
     "metadata": {
      "needs_background": "light"
     },
     "output_type": "display_data"
    }
   ],
   "source": [
    "y_ticks = np.arange(0, 20, 2)\n",
    "plt.yticks(y_ticks)\n",
    "top10F.plot(kind='bar')\n"
   ]
  },
  {
   "cell_type": "code",
   "execution_count": 36,
   "metadata": {},
   "outputs": [],
   "source": [
    "Team_Year = (athlete_events.groupby(['Year']))['Event'].nunique()"
   ]
  },
  {
   "cell_type": "code",
   "execution_count": 37,
   "metadata": {},
   "outputs": [
    {
     "data": {
      "text/plain": [
       "Year\n",
       "1896     43\n",
       "1900     90\n",
       "1904     95\n",
       "1906     74\n",
       "1908    109\n",
       "1912    107\n",
       "1920    158\n",
       "1924    148\n",
       "1928    136\n",
       "1932    145\n",
       "1936    167\n",
       "1948    175\n",
       "1952    171\n",
       "1956    175\n",
       "1960    177\n",
       "1964    197\n",
       "1968    207\n",
       "1972    228\n",
       "1976    235\n",
       "1980    241\n",
       "1984    260\n",
       "1988    283\n",
       "1992    314\n",
       "1994     61\n",
       "1996    271\n",
       "1998     68\n",
       "2000    300\n",
       "2002     78\n",
       "2004    301\n",
       "2006     84\n",
       "2008    302\n",
       "2010     86\n",
       "2012    302\n",
       "2014     98\n",
       "2016    306\n",
       "Name: Event, dtype: int64"
      ]
     },
     "execution_count": 37,
     "metadata": {},
     "output_type": "execute_result"
    }
   ],
   "source": [
    "Team_Year"
   ]
  },
  {
   "cell_type": "code",
   "execution_count": null,
   "metadata": {},
   "outputs": [],
   "source": []
  },
  {
   "cell_type": "code",
   "execution_count": 38,
   "metadata": {},
   "outputs": [],
   "source": [
    "arrEvents=pd.Series(Team_Year.array)"
   ]
  },
  {
   "cell_type": "code",
   "execution_count": 39,
   "metadata": {},
   "outputs": [
    {
     "data": {
      "text/plain": [
       "0      43\n",
       "1      90\n",
       "2      95\n",
       "3      74\n",
       "4     109\n",
       "5     107\n",
       "6     158\n",
       "7     148\n",
       "8     136\n",
       "9     145\n",
       "10    167\n",
       "11    175\n",
       "12    171\n",
       "13    175\n",
       "14    177\n",
       "15    197\n",
       "16    207\n",
       "17    228\n",
       "18    235\n",
       "19    241\n",
       "20    260\n",
       "21    283\n",
       "22    314\n",
       "23     61\n",
       "24    271\n",
       "25     68\n",
       "26    300\n",
       "27     78\n",
       "28    301\n",
       "29     84\n",
       "30    302\n",
       "31     86\n",
       "32    302\n",
       "33     98\n",
       "34    306\n",
       "dtype: int64"
      ]
     },
     "execution_count": 39,
     "metadata": {},
     "output_type": "execute_result"
    }
   ],
   "source": [
    "arrEvents"
   ]
  },
  {
   "cell_type": "code",
   "execution_count": 40,
   "metadata": {},
   "outputs": [],
   "source": [
    "years=athlete_events['Year'].unique()"
   ]
  },
  {
   "cell_type": "code",
   "execution_count": 41,
   "metadata": {},
   "outputs": [],
   "source": [
    "years[::1].sort()"
   ]
  },
  {
   "cell_type": "code",
   "execution_count": 42,
   "metadata": {
    "scrolled": true
   },
   "outputs": [
    {
     "data": {
      "image/png": "[encoded data removed]",
      "text/plain": [
       "<Figure size 864x432 with 1 Axes>"
      ]
     },
     "metadata": {
      "needs_background": "light"
     },
     "output_type": "display_data"
    }
   ],
   "source": [
    "plt.figure(figsize=(12,6))\n",
    "x_ticks = np.arange(1896, 2017, 10)\n",
    "plt.xticks(x_ticks)\n",
    "plt.plot(years,arrEvents)\n",
    "plt.title('Number of Events per year')\n",
    "plt.xlabel('Year')\n",
    "plt.ylabel('Events')\n",
    "plt.show()"
   ]
  },
  {
   "cell_type": "code",
   "execution_count": null,
   "metadata": {},
   "outputs": [],
   "source": []
  },
  {
   "cell_type": "code",
   "execution_count": null,
   "metadata": {},
   "outputs": [],
   "source": [
    "Team_Sport = (athlete_events.groupby(['Year'])).count()['Sport']"
   ]
  },
  {
   "cell_type": "code",
   "execution_count": null,
   "metadata": {},
   "outputs": [],
   "source": [
    "arrSport=pd.Series(Team_Sport.array)"
   ]
  },
  {
   "cell_type": "code",
   "execution_count": null,
   "metadata": {},
   "outputs": [],
   "source": [
    "plt.figure(figsize=(12,6))\n",
    "x_ticks = np.arange(1896, 2017, 10)\n",
    "plt.xticks(x_ticks)\n",
    "plt.plot(years,arrSport)\n",
    "plt.title('Number of Sports per year')\n",
    "plt.xlabel('Year')\n",
    "plt.ylabel('Sports')\n",
    "plt.show()"
   ]
  },
  {
   "cell_type": "code",
   "execution_count": null,
   "metadata": {},
   "outputs": [],
   "source": []
  },
  {
   "cell_type": "code",
   "execution_count": 143,
   "metadata": {},
   "outputs": [],
   "source": [
    "mostcityy=athlete_events.groupby('City').count()['ID'].sort_values(ascending=False).head(10)"
   ]
  },
  {
   "cell_type": "code",
   "execution_count": 145,
   "metadata": {},
   "outputs": [],
   "source": [
    "leastcityy=athlete_events.groupby('City').count()['ID'].sort_values(ascending=True).head(10)"
   ]
  },
  {
   "cell_type": "code",
   "execution_count": 144,
   "metadata": {},
   "outputs": [
    {
     "data": {
      "text/plain": [
       "<AxesSubplot:xlabel='City'>"
      ]
     },
     "execution_count": 144,
     "metadata": {},
     "output_type": "execute_result"
    },
    {
     "data": {
      "image/png": "[encoded data removed]",
      "text/plain": [
       "<Figure size 432x288 with 1 Axes>"
      ]
     },
     "metadata": {
      "needs_background": "light"
     },
     "output_type": "display_data"
    }
   ],
   "source": [
    "# y_ticks = np.arange(0, 20, 2)\n",
    "# plt.yticks(y_ticks)\n",
    "mostcityy.plot(kind='bar')"
   ]
  },
  {
   "cell_type": "code",
   "execution_count": 146,
   "metadata": {},
   "outputs": [
    {
     "data": {
      "text/plain": [
       "<AxesSubplot:xlabel='City'>"
      ]
     },
     "execution_count": 146,
     "metadata": {},
     "output_type": "execute_result"
    },
    {
     "data": {
      "image/png": "[encoded data removed]",
      "text/plain": [
       "<Figure size 432x288 with 1 Axes>"
      ]
     },
     "metadata": {
      "needs_background": "light"
     },
     "output_type": "display_data"
    }
   ],
   "source": [
    "leastcityy.plot(kind='bar')"
   ]
  },
  {
   "cell_type": "code",
   "execution_count": null,
   "metadata": {},
   "outputs": [],
   "source": []
  }
 ],
 "metadata": {
  "kernelspec": {
   "display_name": "Python 3",
   "language": "python",
   "name": "python3"
  },
  "language_info": {
   "codemirror_mode": {
    "name": "ipython",
    "version": 3
   },
   "file_extension": ".py",
   "mimetype": "text/x-python",
   "name": "python",
   "nbconvert_exporter": "python",
   "pygments_lexer": "ipython3",
   "version": "3.8.5"
  }
 },
 "nbformat": 4,
 "nbformat_minor": 4
}
